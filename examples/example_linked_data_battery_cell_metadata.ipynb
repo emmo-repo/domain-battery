{
 "cells": [
  {
   "cell_type": "markdown",
   "metadata": {
    "id": "1wseTQGaB4x9"
   },
   "source": [
    "# Example: Simple Battery Cell Metadata\n",
    "\n",
    "Let's describe an instance of a simple CR2032 coin cell with a capacity defined in a specification sheet from the manufacturer!\n",
    "\n",
    "This example covers a few topics:  \n",
    "\n",
    "- How to describe a resource using ontology terms and JSON-LD  \n",
    "- How machines convert JSON-LD into triples  \n",
    "- What is the meaning of the subject, predicate, and object identifiers  \n",
    "- How to run a simple query using SPARQL **[Moderate]**  \n",
    "- How to use the ontology to fetch more information from other sources **[Advanced]**  \n",
    "\n",
    "A live version of this notebook is available on Google Colab [here](https://colab.research.google.com/drive/10F5YRAnO5ubY4Ut3uEjv5rLqvr_GRFC5?usp=sharing)\n"
   ]
  },
  {
   "cell_type": "markdown",
   "metadata": {
    "id": "jcTVz9-DEh3m"
   },
   "source": [
    "## Describe the powder using ontology terms in JSON-LD format\n",
    "The JSON-LD data that we will use is:"
   ]
  },
  {
   "cell_type": "code",
   "execution_count": 36,
   "metadata": {
    "id": "gohQKEBrF2QP"
   },
   "outputs": [],
   "source": [
    "jsonld = {\n",
    "            \"@context\": \"https://w3id.org/emmo/domain/battery/context\",\n",
    "            \"@type\": \"CR2032\",\n",
    "            \"schema:name\": \"My CR2032 Coin Cell\",\n",
    "            \"schema:manufacturer\": {\n",
    "               \"@id\": \"https://www.wikidata.org/wiki/Q3041255\",\n",
    "               \"schema:name\": \"SINTEF\"\n",
    "            },\n",
    "            \"hasProperty\": {\n",
    "               \"@type\": [\"NominalCapacity\", \"ConventionalProperty\"],\n",
    "               \"hasNumericalPart\": {\n",
    "                     \"@type\": \"RealData\",\n",
    "                     \"hasNumberValue\": 230\n",
    "               },\n",
    "               \"hasMeasurementUnit\": \"emmo:MilliAmpereHour\"\n",
    "            }\n",
    "         }"
   ]
  },
  {
   "cell_type": "markdown",
   "metadata": {
    "id": "in30p-x4H91Y"
   },
   "source": [
    "## Parse this description into a graph\n",
    "Now let's see how a machine would process this data by reading it into a Graph!\n",
    "\n",
    "First, we install and import the python dependencies that we need for this example."
   ]
  },
  {
   "cell_type": "code",
   "execution_count": 37,
   "metadata": {
    "id": "wk4sFl_eA2ML"
   },
   "outputs": [],
   "source": [
    "# Import dependencies\n",
    "import json\n",
    "import rdflib\n",
    "import requests\n",
    "import sys\n",
    "from IPython.display import Image, display\n",
    "import matplotlib.pyplot as plt"
   ]
  },
  {
   "cell_type": "markdown",
   "metadata": {
    "id": "lotp-0QABV-2"
   },
   "source": [
    "We create the graph using a very handy python package called [rdflib](https://rdflib.readthedocs.io/en/stable/), which provides us a way to parse our json-ld data, run some queries using the language [SPARQL](https://en.wikipedia.org/wiki/SPARQL), and serialize the graph in any RDF compatible format (e.g. JSON-LD, Turtle, etc.)."
   ]
  },
  {
   "cell_type": "code",
   "execution_count": 38,
   "metadata": {
    "colab": {
     "base_uri": "https://localhost:8080/"
    },
    "id": "zWibLw6NIrrq",
    "outputId": "6be74891-73f3-43ff-a4d1-29b6697f8b11"
   },
   "outputs": [
    {
     "name": "stdout",
     "output_type": "stream",
     "text": [
      "(rdflib.term.URIRef('https://www.wikidata.org/wiki/Q3041255'), rdflib.term.URIRef('https://schema.org/name'), rdflib.term.Literal('SINTEF'))\n",
      "(rdflib.term.BNode('Nafdb15bd733243ed8437da4ab4804713'), rdflib.term.URIRef('https://schema.org/manufacturer'), rdflib.term.URIRef('https://www.wikidata.org/wiki/Q3041255'))\n",
      "(rdflib.term.BNode('Nafdb15bd733243ed8437da4ab4804713'), rdflib.term.URIRef('https://schema.org/name'), rdflib.term.Literal('My CR2032 Coin Cell'))\n",
      "(rdflib.term.BNode('N0b88e5adb66b4fc38247f92fd0e58eda'), rdflib.term.URIRef('http://www.w3.org/1999/02/22-rdf-syntax-ns#type'), rdflib.term.URIRef('https://w3id.org/emmo#EMMO_18d180e4_5e3e_42f7_820c_e08951223486'))\n",
      "(rdflib.term.BNode('N97abaf9184ed436e88fb38baf2b81614'), rdflib.term.URIRef('http://www.w3.org/1999/02/22-rdf-syntax-ns#type'), rdflib.term.URIRef('https://w3id.org/emmo#EMMO_d8aa8e1f_b650_416d_88a0_5118de945456'))\n",
      "(rdflib.term.BNode('Nafdb15bd733243ed8437da4ab4804713'), rdflib.term.URIRef('https://w3id.org/emmo#EMMO_e1097637_70d2_4895_973f_2396f04fa204'), rdflib.term.BNode('N97abaf9184ed436e88fb38baf2b81614'))\n",
      "(rdflib.term.BNode('N97abaf9184ed436e88fb38baf2b81614'), rdflib.term.URIRef('https://w3id.org/emmo#EMMO_8ef3cd6d_ae58_4a8d_9fc0_ad8f49015cd0'), rdflib.term.BNode('N0b88e5adb66b4fc38247f92fd0e58eda'))\n",
      "(rdflib.term.BNode('N97abaf9184ed436e88fb38baf2b81614'), rdflib.term.URIRef('https://w3id.org/emmo#EMMO_bed1d005_b04e_4a90_94cf_02bc678a8569'), rdflib.term.URIRef('https://w3id.org/emmo#MilliAmpereHour'))\n",
      "(rdflib.term.BNode('N97abaf9184ed436e88fb38baf2b81614'), rdflib.term.URIRef('http://www.w3.org/1999/02/22-rdf-syntax-ns#type'), rdflib.term.URIRef('https://w3id.org/emmo/domain/electrochemistry#electrochemistry_8abde9d0_84f6_4b4f_a87e_86028a397100'))\n",
      "(rdflib.term.BNode('N0b88e5adb66b4fc38247f92fd0e58eda'), rdflib.term.URIRef('https://w3id.org/emmo#EMMO_faf79f53_749d_40b2_807c_d34244c192f4'), rdflib.term.Literal('230', datatype=rdflib.term.URIRef('http://www.w3.org/2001/XMLSchema#integer')))\n",
      "(rdflib.term.BNode('Nafdb15bd733243ed8437da4ab4804713'), rdflib.term.URIRef('http://www.w3.org/1999/02/22-rdf-syntax-ns#type'), rdflib.term.URIRef('https://w3id.org/emmo/domain/battery#battery_b61b96ac_f2f4_4b74_82d5_565fe3a2d88b'))\n"
     ]
    }
   ],
   "source": [
    "# Create a new graph\n",
    "g = rdflib.Graph()\n",
    "\n",
    "# Parse our json-ld data into the graph\n",
    "g.parse(data=json.dumps(jsonld), format=\"json-ld\")\n",
    "\n",
    "# Create a SPARQL query to return all the triples in the graph\n",
    "query_all = \"\"\"\n",
    "SELECT ?subject ?predicate ?object\n",
    "WHERE {\n",
    "  ?subject ?predicate ?object\n",
    "}\n",
    "\"\"\"\n",
    "\n",
    "# Execute the SPARQL query\n",
    "all_the_things = g.query(query_all)\n",
    "\n",
    "# Print the results\n",
    "for row in all_the_things:\n",
    "    print(row)\n"
   ]
  },
  {
   "cell_type": "markdown",
   "metadata": {
    "id": "C-w1TbxkI4W5"
   },
   "source": [
    "You can see that our human-readable JSON-LD file has been transformed into some nasty looking (but machine-readable!) triples. Let's look at a couple in more detail to understand what's going on.<br><br>\n",
    "\n",
    "## Examine and explore the triples\n",
    "\n",
    "Let's start with this one:\n",
    "\n",
    "| &nbsp;   | &nbsp; |\n",
    "|-----------|--------------------------------------|\n",
    "| subject   | https://www.wikidata.org/wiki/Q3041255 |\n",
    "| predicate | https://schema.org/name              |\n",
    "| object    | ‘SINTEF                      |\n",
    "\n",
    "This tells the machine that something with a wikidata identifier has a property called 'name' from the schema.org vocabulary with a literal value '**SINTEF**'. These identifiers serve not only as persistent and unique identifiers for the concepts, but also point to a place where a machine can go to learn more about what it is. Try it yourself! Click on one and see where it takes you!<br><br>\n",
    "\n",
    "\n",
    "*Neat, right?!* Let's look at another one:\n",
    "\n",
    "| &nbsp;   | &nbsp; |\n",
    "|-----------|--------------------------------------|\n",
    "| subject   | 'Nb9d4bdc220954548a09b8b56f95d9cf3' |\n",
    "| predicate | http://www.w3.org/1999/02/22-rdf-syntax-ns#type            |\n",
    "| object    | http://emmo.info/battery#battery_b61b96ac_f2f4_4b74_82d5_565fe3a2d88b                     |\n",
    "\n",
    "\n",
    "\n",
    "This tells the machine that a certain node in the graph is a a type of some thing that exists in the EMMO domain 'battery'. And this gets to one of the difficult bits for humans: many ontologies (like EMMO) use UUIDs for term names to ensure that they are universally unique. It works, but it sacrifices the human readability. Luckily we can get around this by assigning human-readable annotations to that term and/or mapping the IRI to a human readable label in a JSON-LD context like we did above.\n",
    "\n",
    "Go ahead, click the link and see if you can figure out what this thing is...\n",
    "\n",
    "...*it's a CR2032!* Now we can see how our simple description in the JSON-LD file has now been converted to a machine-readable IRI.<br><br>\n",
    "\n",
    "## Query the graph using SPARQL [Moderate]\n",
    "\n",
    "Now, let's write a SPARQL query to get back some specific thing...like what is the name of the manufacturer?"
   ]
  },
  {
   "cell_type": "code",
   "execution_count": 39,
   "metadata": {
    "colab": {
     "base_uri": "https://localhost:8080/"
    },
    "id": "6bXHGG4cI-kr",
    "outputId": "5c79fa6e-50a4-4fc2-c513-149bd8cd9170"
   },
   "outputs": [
    {
     "name": "stdout",
     "output_type": "stream",
     "text": [
      "(rdflib.term.Literal('SINTEF'),)\n"
     ]
    }
   ],
   "source": [
    "query = \"\"\"\n",
    "PREFIX schema: <https://schema.org/>\n",
    "\n",
    "SELECT ?manufacturerName\n",
    "WHERE {\n",
    "  ?thing schema:manufacturer ?manufacturer .\n",
    "  ?manufacturer schema:name ?manufacturerName .\n",
    "}\n",
    "\"\"\"\n",
    "\n",
    "# Execute the SPARQL query\n",
    "results = g.query(query)\n",
    "\n",
    "# Print the results\n",
    "for row in results:\n",
    "    print(row)\n"
   ]
  },
  {
   "cell_type": "markdown",
   "metadata": {
    "id": "b7LJC8BubFce"
   },
   "source": [
    "## Retrieve External Identifiers Using EMMOntoPy\n",
    "\n",
    "Ontologies contain rich semantic descriptions, but they don't always embed all external information directly. Instead, they often include references (like Wikidata IDs) to link concepts to authoritative external sources.\n",
    "\n",
    "In this example, we use **EMMOntoPy**, a Python interface for OWL ontologies, to query the ontology and extract the **Wikidata ID** associated with a specific class — in this case, the `CR2032` coin cell.\n",
    "\n",
    "EMMOntoPy allows us to access ontology classes and properties by their human-readable labels (e.g., `\"CR2032\"` and `\"wikidataReference\"`), and we use these to build a SPARQL query. This query is then executed over the ontology graph to extract the Wikidata IRI for `CR2032`.\n",
    "\n",
    "We can later use this IRI to retrieve additional metadata directly from Wikidata or other linked data endpoints — a common pattern in semantic data workflows."
   ]
  },
  {
   "cell_type": "code",
   "execution_count": 40,
   "metadata": {},
   "outputs": [],
   "source": [
    "from ontopy import get_ontology\n",
    "\n",
    "# Loading from web\n",
    "battinfo = get_ontology('https://w3id.org/emmo/domain/battery/inferred').load()"
   ]
  },
  {
   "cell_type": "code",
   "execution_count": 41,
   "metadata": {
    "colab": {
     "base_uri": "https://localhost:8080/"
    },
    "id": "ntT1Rf_yM6sZ",
    "outputId": "7eb1b90f-c97e-4d1e-b311-ca9355501c2e"
   },
   "outputs": [
    {
     "name": "stdout",
     "output_type": "stream",
     "text": [
      "The Wikidata ID for CR2032 is: Q5013811\n"
     ]
    }
   ],
   "source": [
    "wikidata_url = battinfo.CR2032.wikidataReference[0]\n",
    "wikidata_id = wikidata_url.split('/')[-1]\n",
    "print(f\"The Wikidata ID for CR2032 is: {wikidata_id}\")"
   ]
  },
  {
   "cell_type": "markdown",
   "metadata": {
    "id": "XGXFrNa5dKSr"
   },
   "source": [
    "Now that we have the Wikidata ID for CR2032, we can query their SPARQL endpoint to retrieve some property. Let's ask it for the thickness."
   ]
  },
  {
   "cell_type": "code",
   "execution_count": 42,
   "metadata": {
    "colab": {
     "base_uri": "https://localhost:8080/"
    },
    "id": "zTBOZAf-dWQQ",
    "outputId": "9f9d1c00-d74f-4c76-ceb5-b58b21853c41"
   },
   "outputs": [
    {
     "name": "stdout",
     "output_type": "stream",
     "text": [
      "Wikidata says the thickness of a CR2032 cell is: 20 millimetre\n"
     ]
    }
   ],
   "source": [
    "# Query the Wikidata knowledge graph for more information about zinc\n",
    "wikidata_endpoint = \"https://query.wikidata.org/sparql\"\n",
    "\n",
    "# SPARQL query to get the thickness of a CR2032 cell and label for the unit\n",
    "query = \"\"\"\n",
    "SELECT ?value ?unit ?unitLabel WHERE {\n",
    "  wd:%s p:P2386 ?statement .\n",
    "  ?statement ps:P2386 ?value .\n",
    "  OPTIONAL {\n",
    "    ?statement psv:P2386 ?valueNode .\n",
    "    ?valueNode wikibase:quantityUnit ?unit .\n",
    "    ?unit rdfs:label ?unitLabel .\n",
    "    FILTER (lang(?unitLabel) = \"en\")\n",
    "  }\n",
    "}\n",
    "\"\"\" % wikidata_id\n",
    "\n",
    "# Execute the request\n",
    "response = requests.get(wikidata_endpoint, params={'query': query, 'format': 'json'})\n",
    "data = response.json()\n",
    "\n",
    "# Extract and print the thickness value\n",
    "binding = data['results']['bindings'][0]\n",
    "thickness = binding['value']['value']\n",
    "unit_label = binding.get('unitLabel', {}).get('value', binding.get('unit', {}).get('value', ''))\n",
    "\n",
    "print(f\"Wikidata says the thickness of a CR2032 cell is: {thickness} {unit_label}\")"
   ]
  },
  {
   "cell_type": "markdown",
   "metadata": {
    "id": "-xdSIS6Idy5m"
   },
   "source": [
    "We can also retrieve more complex data. For example, let's ask Wikidata to show us an image of a CR2032."
   ]
  },
  {
   "cell_type": "code",
   "execution_count": 43,
   "metadata": {
    "colab": {
     "base_uri": "https://localhost:8080/",
     "height": 339
    },
    "id": "T7bkBY0sNqNY",
    "outputId": "c9c3bcf4-d278-4acd-a93b-5a7d553d66fd"
   },
   "outputs": [
    {
     "name": "stdout",
     "output_type": "stream",
     "text": [
      "Image of a CR2032- cell: http://commons.wikimedia.org/wiki/Special:FilePath/CR2032%20battery%2C%20KTS-2728.jpg\n"
     ]
    },
    {
     "data": {
      "text/html": [
       "<img src=\"http://commons.wikimedia.org/wiki/Special:FilePath/CR2032%20battery%2C%20KTS-2728.jpg\" width=\"300\"/>"
      ],
      "text/plain": [
       "<IPython.core.display.Image object>"
      ]
     },
     "metadata": {},
     "output_type": "display_data"
    }
   ],
   "source": [
    "# SPARQL query to get the image of the CR2032 cell (Q758)\n",
    "query = \"\"\"\n",
    "SELECT ?image WHERE {\n",
    "  wd:%s wdt:P18 ?image .\n",
    "}\n",
    "\"\"\" % wikidata_id\n",
    "\n",
    "# Execute the request\n",
    "response = requests.get(wikidata_endpoint, params={'query': query, 'format': 'json'})\n",
    "data = response.json()\n",
    "\n",
    "# Extract and display the image URL\n",
    "if data['results']['bindings']:\n",
    "    image_url = data['results']['bindings'][0]['image']['value']\n",
    "    print(f\"Image of a CR2032- cell: {image_url}\")\n",
    "    display(Image(url=image_url, width=300))  # Adjust width and height as needed\n",
    "\n",
    "else:\n",
    "    print(\"No image found.\")"
   ]
  },
  {
   "cell_type": "markdown",
   "metadata": {
    "id": "mRcFo-MBDVBW"
   },
   "source": [
    "Finally, let's retireve the id for CR2032 in the Google Knowledge Graph and see what it has to say!"
   ]
  },
  {
   "cell_type": "code",
   "execution_count": 44,
   "metadata": {
    "colab": {
     "base_uri": "https://localhost:8080/"
    },
    "id": "nAAC5bo8FLD6",
    "outputId": "d3543deb-ce22-4d90-f054-6b705c94fb49"
   },
   "outputs": [
    {
     "name": "stdout",
     "output_type": "stream",
     "text": [
      "The Google Knowledge Graph entry for a CR2032 cell: https://www.google.com/search?kgmid=/g/11bc5qf2g9\n"
     ]
    }
   ],
   "source": [
    "# SPARQL query to get the Google Knowledge Graph ID of the CR2032 cell\n",
    "query = \"\"\"\n",
    "SELECT ?id WHERE {\n",
    "  wd:%s wdt:P2671 ?id .\n",
    "}\n",
    "\"\"\" % wikidata_id\n",
    "\n",
    "# Execute the request\n",
    "response = requests.get(wikidata_endpoint, params={'query': query, 'format': 'json'})\n",
    "data = response.json()\n",
    "\n",
    "# Extract and display the Google Knowledge Graph ID\n",
    "if data['results']['bindings']:\n",
    "    gkgid = data['results']['bindings'][0]['id']['value']\n",
    "    gkgns = 'https://www.google.com/search?kgmid='\n",
    "    gkg = gkgns + gkgid\n",
    "    print(f\"The Google Knowledge Graph entry for a CR2032 cell: {gkg}\")\n",
    "\n",
    "else:\n",
    "    print(\"None found.\")"
   ]
  },
  {
   "cell_type": "markdown",
   "metadata": {},
   "source": [
    "## Summary\n",
    "\n",
    "In this notebook, we explored how to combine ontologies, JSON-LD, and external knowledge graphs (like Wikidata) to build semantically rich descriptions of battery components.\n",
    "\n",
    "### What We Did\n",
    "\n",
    "- **Described a battery cell** (e.g., CR2032) using JSON-LD and ontology terms from the EMMO battery domain.\n",
    "- **Queried the ontology** using EMMOntoPy to retrieve structured metadata, including external identifiers like Wikidata IDs.\n",
    "- **Parsed JSON-LD into RDF** using RDFLib, enabling SPARQL queries over the resulting knowledge graph.\n",
    "- **Executed live SPARQL queries against Wikidata** to retrieve additional information — such as the physical thickness of the CR2032 cell.\n",
    "- **Mapped raw IRIs to readable labels** to improve interpretability of results (e.g., converting unit IRIs to \"millimetre\").\n",
    "\n",
    "### Why This Matters\n",
    "\n",
    "By linking structured ontology-based descriptions to external resources like Wikidata:\n",
    "- We **avoid data duplication** while gaining access to curated, up-to-date public knowledge.\n",
    "- We create **machine-interpretable metadata** that can support automated reasoning, traceability, and interoperability.\n",
    "- We set the foundation for **semantic integration** across research domains, data platforms, and digital twin ecosystems.\n",
    "\n",
    "This approach scales well from simple battery metadata to rich, queryable knowledge graphs that connect batteries with materials, processes, and real-world data.\n"
   ]
  }
 ],
 "metadata": {
  "colab": {
   "provenance": []
  },
  "kernelspec": {
   "display_name": ".venv",
   "language": "python",
   "name": "python3"
  },
  "language_info": {
   "codemirror_mode": {
    "name": "ipython",
    "version": 3
   },
   "file_extension": ".py",
   "mimetype": "text/x-python",
   "name": "python",
   "nbconvert_exporter": "python",
   "pygments_lexer": "ipython3",
   "version": "3.10.10"
  }
 },
 "nbformat": 4,
 "nbformat_minor": 0
}
